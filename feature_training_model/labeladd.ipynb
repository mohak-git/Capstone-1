{
 "cells": [
  {
   "cell_type": "code",
   "execution_count": 12,
   "id": "0a2f2eed",
   "metadata": {},
   "outputs": [
    {
     "name": "stdout",
     "output_type": "stream",
     "text": [
      "✅ Labels added successfully!\n"
     ]
    }
   ],
   "source": [
    "import pandas as pd\n",
    "\n",
    "# Load your two datasets\n",
    "features = pd.read_csv(\"../features/feature1.csv\")  # no labels here\n",
    "labels = pd.read_csv(\"../data/En-Ba-Dataset(20k_4)/dataset.csv\")  # contains labels\n",
    "\n",
    "# If rows correspond directly (same order)\n",
    "# Suppose the label column name is 'label'\n",
    "features['Label'] = labels['Label'].values\n",
    "\n",
    "# Save the merged dataset\n",
    "features.to_csv(\"features1_with_labels.csv\", index=False)\n",
    "\n",
    "print(\"✅ Labels added successfully!\")\n"
   ]
  },
  {
   "cell_type": "code",
   "execution_count": 13,
   "id": "4d41a32e",
   "metadata": {},
   "outputs": [
    {
     "name": "stdout",
     "output_type": "stream",
     "text": [
      "✅ Labels added successfully!\n"
     ]
    }
   ],
   "source": [
    "import pandas as pd\n",
    "\n",
    "# Load your two datasets\n",
    "features = pd.read_csv(\"../features/feature2.csv\")  # no labels here\n",
    "labels = pd.read_csv(\"../data/En-Ba-Dataset(20k_4)/dataset.csv\")  # contains labels\n",
    "\n",
    "# If rows correspond directly (same order)\n",
    "# Suppose the label column name is 'label'\n",
    "features['Label'] = labels['Label'].values\n",
    "\n",
    "# Save the merged dataset\n",
    "features.to_csv(\"features2_with_labels.csv\", index=False)\n",
    "\n",
    "print(\"✅ Labels added successfully!\")\n"
   ]
  },
  {
   "cell_type": "code",
   "execution_count": 14,
   "id": "b5a58d6b",
   "metadata": {},
   "outputs": [
    {
     "name": "stdout",
     "output_type": "stream",
     "text": [
      "✅ Labels added successfully!\n"
     ]
    }
   ],
   "source": [
    "import pandas as pd\n",
    "\n",
    "# Load your two datasets\n",
    "features = pd.read_csv(\"../features/feature3.csv\")  # no labels here\n",
    "labels = pd.read_csv(\"../data/En-Ba-Dataset(20k_4)/dataset.csv\")  # contains labels\n",
    "\n",
    "# If rows correspond directly (same order)\n",
    "# Suppose the label column name is 'label'\n",
    "features['Label'] = labels['Label'].values\n",
    "\n",
    "# Save the merged dataset\n",
    "features.to_csv(\"features3_with_labels.csv\", index=False)\n",
    "\n",
    "print(\"✅ Labels added successfully!\")\n"
   ]
  }
 ],
 "metadata": {
  "kernelspec": {
   "display_name": "Python 3",
   "language": "python",
   "name": "python3"
  },
  "language_info": {
   "codemirror_mode": {
    "name": "ipython",
    "version": 3
   },
   "file_extension": ".py",
   "mimetype": "text/x-python",
   "name": "python",
   "nbconvert_exporter": "python",
   "pygments_lexer": "ipython3",
   "version": "3.13.8"
  }
 },
 "nbformat": 4,
 "nbformat_minor": 5
}
